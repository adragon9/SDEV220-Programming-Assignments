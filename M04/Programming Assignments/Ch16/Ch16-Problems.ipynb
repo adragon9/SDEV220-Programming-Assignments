{
 "cells": [
  {
   "cell_type": "code",
   "execution_count": null,
   "id": "b52e670a",
   "metadata": {},
   "outputs": [],
   "source": [
    "import sqlalchemy as sa\n",
    "import sqlite3\n",
    "\n",
    "database = sqlite3.connect('books.db')\n",
    "cursor = database.cursor()\n",
    "\n",
    "table = '''DROP TABLE IF EXISTS books'''\n",
    "cursor.execute(table)\n",
    "\n",
    "table = '''CREATE TABLE books(title VARCHAR(255), author VARCHAR(255), year INT)'''\n",
    "cursor.execute(table)\n",
    "\n",
    "cursor.execute('''INSERT INTO books VALUES('The Weirdstone of Brisingamen','Alan Garner',1960)''')\n",
    "cursor.execute('''INSERT INTO books VALUES('Perdido Street Station','China Miéville',2000)''')\n",
    "cursor.execute('''INSERT INTO books VALUES('Thud!','Terry Pratchett',2005)''')\n",
    "cursor.execute('''INSERT INTO books VALUES('The Spellman Files','Lisa Lutz',2007)''')\n",
    "cursor.execute('''INSERT INTO books VALUES('Small Gods','Terry Pratchett',1992)''')\n",
    "\n",
    "database.commit()\n",
    "database.close()\n",
    "\n",
    "engine = sa.create_engine('sqlite:///books.db')\n",
    "connection = engine.connect()\n",
    "metadata = sa.MetaData()\n",
    "table_to_query = sa.Table('books', metadata, autoload_with=engine)\n",
    "\n",
    "query = sa.select(table_to_query.c.author).order_by(table_to_query.c.author)\n",
    "resultA = connection.execute(query)\n",
    "resultB = resultA.fetchall()\n",
    "\n",
    "print(resultB)"
   ]
  }
 ],
 "metadata": {
  "kernelspec": {
   "display_name": "Python 3 (ipykernel)",
   "language": "python",
   "name": "python3"
  },
  "language_info": {
   "codemirror_mode": {
    "name": "ipython",
    "version": 3
   },
   "file_extension": ".py",
   "mimetype": "text/x-python",
   "name": "python",
   "nbconvert_exporter": "python",
   "pygments_lexer": "ipython3",
   "version": "3.11.4"
  }
 },
 "nbformat": 4,
 "nbformat_minor": 5
}
