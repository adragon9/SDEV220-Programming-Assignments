{
 "cells": [
  {
   "cell_type": "code",
   "execution_count": null,
   "id": "92627a61",
   "metadata": {},
   "outputs": [],
   "source": [
    "# 11.1\n",
    "import zoo\n",
    "zoo.hours()"
   ]
  },
  {
   "cell_type": "code",
   "execution_count": null,
   "id": "1a8ba207",
   "metadata": {},
   "outputs": [],
   "source": [
    "# 11.2\n",
    "import zoo as menagerie\n",
    "menagerie.hours()"
   ]
  }
 ],
 "metadata": {
  "kernelspec": {
   "display_name": "Python 3 (ipykernel)",
   "language": "python",
   "name": "python3"
  },
  "language_info": {
   "codemirror_mode": {
    "name": "ipython",
    "version": 3
   },
   "file_extension": ".py",
   "mimetype": "text/x-python",
   "name": "python",
   "nbconvert_exporter": "python",
   "pygments_lexer": "ipython3",
   "version": "3.11.4"
  }
 },
 "nbformat": 4,
 "nbformat_minor": 5
}
