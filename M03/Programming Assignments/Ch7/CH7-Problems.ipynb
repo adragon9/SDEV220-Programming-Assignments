{
 "cells": [
  {
   "cell_type": "code",
   "execution_count": 14,
   "id": "41bf6696",
   "metadata": {},
   "outputs": [
    {
     "name": "stdout",
     "output_type": "stream",
     "text": [
      "['MOZZARELLA', 'Cinderella']\n"
     ]
    }
   ],
   "source": [
    "# 7.4\n",
    "things = [\"mozzarella\", \"cinderella\", \"salmonella\"]\n",
    "\n",
    "#7.5\n",
    "things[1] = things[1][0].upper() + things[1][1:]\n",
    "\n",
    "#7.6\n",
    "things[0] = things[0].upper()\n",
    "\n",
    "#7.7\n",
    "things.remove(\"salmonella\")\n",
    "\n",
    "print(things)"
   ]
  }
 ],
 "metadata": {
  "kernelspec": {
   "display_name": "Python 3 (ipykernel)",
   "language": "python",
   "name": "python3"
  },
  "language_info": {
   "codemirror_mode": {
    "name": "ipython",
    "version": 3
   },
   "file_extension": ".py",
   "mimetype": "text/x-python",
   "name": "python",
   "nbconvert_exporter": "python",
   "pygments_lexer": "ipython3",
   "version": "3.11.4"
  }
 },
 "nbformat": 4,
 "nbformat_minor": 5
}
