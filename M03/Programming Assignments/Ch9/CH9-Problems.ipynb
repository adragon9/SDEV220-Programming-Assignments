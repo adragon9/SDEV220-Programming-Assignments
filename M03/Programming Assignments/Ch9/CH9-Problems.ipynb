{
 "cells": [
  {
   "cell_type": "code",
   "execution_count": 10,
   "id": "e410b4ed",
   "metadata": {},
   "outputs": [
    {
     "name": "stdout",
     "output_type": "stream",
     "text": [
      "5\n",
      "['Harry', 'Ron', 'Hermione']\n"
     ]
    }
   ],
   "source": [
    "# 9.1\n",
    "def good():\n",
    "    return ['Harry', 'Ron', 'Hermione']\n",
    "\n",
    "# 9.2\n",
    "def get_odds():\n",
    "    odd_nums = []\n",
    "    for i in range(10):\n",
    "        if i%2 != 0:\n",
    "            odd_nums.append(i)\n",
    "    return odd_nums\n",
    "\n",
    "odd_numbers = get_odds()\n",
    "for i in range(len(odd_numbers)):\n",
    "    if i == 2:\n",
    "        print(odd_numbers[i])"
   ]
  },
  {
   "cell_type": "code",
   "execution_count": null,
   "id": "400b7acd",
   "metadata": {},
   "outputs": [],
   "source": []
  }
 ],
 "metadata": {
  "kernelspec": {
   "display_name": "Python 3 (ipykernel)",
   "language": "python",
   "name": "python3"
  },
  "language_info": {
   "codemirror_mode": {
    "name": "ipython",
    "version": 3
   },
   "file_extension": ".py",
   "mimetype": "text/x-python",
   "name": "python",
   "nbconvert_exporter": "python",
   "pygments_lexer": "ipython3",
   "version": "3.11.4"
  }
 },
 "nbformat": 4,
 "nbformat_minor": 5
}
