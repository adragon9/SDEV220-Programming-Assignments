{
 "cells": [
  {
   "cell_type": "code",
   "execution_count": 16,
   "id": "d2882afd",
   "metadata": {},
   "outputs": [
    {
     "name": "stdout",
     "output_type": "stream",
     "text": [
      "too low\n"
     ]
    }
   ],
   "source": [
    "secret = 3\n",
    "guess = 2\n",
    "\n",
    "if guess > secret:\n",
    "    print(\"too high\")\n",
    "elif guess < secret:\n",
    "    print(\"too low\")\n",
    "else:\n",
    "    print(\"just right\")"
   ]
  },
  {
   "cell_type": "code",
   "execution_count": 17,
   "id": "1e042eb1",
   "metadata": {},
   "outputs": [
    {
     "name": "stdout",
     "output_type": "stream",
     "text": [
      "watermelon\n"
     ]
    }
   ],
   "source": [
    "small = False\n",
    "green = True\n",
    "\n",
    "fruit = ['cherry', 'pea', 'watermelon', 'pumpkin']\n",
    "\n",
    "if small is False and green is False:\n",
    "    print('pumpkin')\n",
    "\n",
    "if small is True and green is False:\n",
    "    print('cherry')\n",
    "\n",
    "if small is False and green is True:\n",
    "    print('watermelon')\n",
    "\n",
    "if small is True and green is True:\n",
    "    print('pea')"
   ]
  }
 ],
 "metadata": {
  "kernelspec": {
   "display_name": "Python 3 (ipykernel)",
   "language": "python",
   "name": "python3"
  },
  "language_info": {
   "codemirror_mode": {
    "name": "ipython",
    "version": 3
   },
   "file_extension": ".py",
   "mimetype": "text/x-python",
   "name": "python",
   "nbconvert_exporter": "python",
   "pygments_lexer": "ipython3",
   "version": "3.11.4"
  }
 },
 "nbformat": 4,
 "nbformat_minor": 5
}
