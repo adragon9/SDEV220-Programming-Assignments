{
 "cells": [
  {
   "cell_type": "code",
   "execution_count": 40,
   "id": "9f34b0bd",
   "metadata": {},
   "outputs": [
    {
     "name": "stdout",
     "output_type": "stream",
     "text": [
      "10 1 2023\n"
     ]
    }
   ],
   "source": [
    "#13.(1~3)\n",
    "from datetime import datetime\n",
    "\n",
    "with open(\"today.txt\", 'w') as f:\n",
    "    date = str(datetime.today())\n",
    "    f.write(date)\n",
    "    \n",
    "with open(\"today.txt\", 'r') as f:\n",
    "    content = f.readlines()\n",
    "    today_string = content[0]\n",
    "    dt = datetime.strptime(today_string, '%Y-%m-%d %H:%M:%S.%f')\n",
    "    \n",
    "    print(dt.month, dt.day, dt.year)   \n",
    "    "
   ]
  }
 ],
 "metadata": {
  "kernelspec": {
   "display_name": "Python 3 (ipykernel)",
   "language": "python",
   "name": "python3"
  },
  "language_info": {
   "codemirror_mode": {
    "name": "ipython",
    "version": 3
   },
   "file_extension": ".py",
   "mimetype": "text/x-python",
   "name": "python",
   "nbconvert_exporter": "python",
   "pygments_lexer": "ipython3",
   "version": "3.11.4"
  }
 },
 "nbformat": 4,
 "nbformat_minor": 5
}
