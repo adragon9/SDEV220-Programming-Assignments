{
 "cells": [
  {
   "cell_type": "code",
   "execution_count": 9,
   "id": "c3dab76f",
   "metadata": {},
   "outputs": [],
   "source": [
    "import multiprocessing\n",
    "import time\n",
    "from random import randrange\n",
    "\n",
    "def wait_random_time(string):\n",
    "    time.sleep(randrange(1, 10))\n",
    "    print(f\"{string}: Done Waiting\")\n",
    "\n",
    "if __name__ == \"__main__\":\n",
    "    for i in range(3):\n",
    "        process = multiprocessing.Process(target=wait_random_time, args = (\"Function %s\" % i,))\n",
    "        process.start()"
   ]
  }
 ],
 "metadata": {
  "kernelspec": {
   "display_name": "Python 3 (ipykernel)",
   "language": "python",
   "name": "python3"
  },
  "language_info": {
   "codemirror_mode": {
    "name": "ipython",
    "version": 3
   },
   "file_extension": ".py",
   "mimetype": "text/x-python",
   "name": "python",
   "nbconvert_exporter": "python",
   "pygments_lexer": "ipython3",
   "version": "3.11.4"
  }
 },
 "nbformat": 4,
 "nbformat_minor": 5
}
