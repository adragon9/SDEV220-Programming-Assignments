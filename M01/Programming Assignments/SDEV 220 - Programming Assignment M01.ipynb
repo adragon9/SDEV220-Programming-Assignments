{
 "cells": [
  {
   "cell_type": "code",
   "execution_count": 5,
   "id": "c7e95b45",
   "metadata": {},
   "outputs": [
    {
     "name": "stdout",
     "output_type": "stream",
     "text": [
      "3600\n"
     ]
    }
   ],
   "source": [
    "#3.1\n",
    "print(60 * 60)"
   ]
  },
  {
   "cell_type": "code",
   "execution_count": 6,
   "id": "ede55d40",
   "metadata": {},
   "outputs": [],
   "source": [
    "#3.2\n",
    "seconds_per_hour = 60 * 60"
   ]
  },
  {
   "cell_type": "code",
   "execution_count": 7,
   "id": "84d89d05",
   "metadata": {},
   "outputs": [
    {
     "name": "stdout",
     "output_type": "stream",
     "text": [
      "86400\n"
     ]
    }
   ],
   "source": [
    "#3.3\n",
    "print(seconds_per_hour * 24)"
   ]
  },
  {
   "cell_type": "code",
   "execution_count": 8,
   "id": "64aba1d5",
   "metadata": {},
   "outputs": [],
   "source": [
    "#3.4\n",
    "seconds_per_day = seconds_per_hour * 24"
   ]
  },
  {
   "cell_type": "code",
   "execution_count": 9,
   "id": "7eb40e72",
   "metadata": {},
   "outputs": [
    {
     "name": "stdout",
     "output_type": "stream",
     "text": [
      "24.0\n"
     ]
    }
   ],
   "source": [
    "#3.5\n",
    "print(seconds_per_day / seconds_per_hour)"
   ]
  },
  {
   "cell_type": "code",
   "execution_count": 10,
   "id": "d5ba34ef",
   "metadata": {},
   "outputs": [
    {
     "name": "stdout",
     "output_type": "stream",
     "text": [
      "24\n"
     ]
    }
   ],
   "source": [
    "#3.6\n",
    "print(seconds_per_day//seconds_per_hour)\n",
    "\n",
    "# The output for this did agree with the output for 3.5"
   ]
  }
 ],
 "metadata": {
  "kernelspec": {
   "display_name": "Python 3 (ipykernel)",
   "language": "python",
   "name": "python3"
  },
  "language_info": {
   "codemirror_mode": {
    "name": "ipython",
    "version": 3
   },
   "file_extension": ".py",
   "mimetype": "text/x-python",
   "name": "python",
   "nbconvert_exporter": "python",
   "pygments_lexer": "ipython3",
   "version": "3.11.4"
  }
 },
 "nbformat": 4,
 "nbformat_minor": 5
}
